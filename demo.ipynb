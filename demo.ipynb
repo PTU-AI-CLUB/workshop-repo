{
 "cells": [
  {
   "cell_type": "code",
   "execution_count": 1,
   "metadata": {},
   "outputs": [],
   "source": [
    "import torch\n",
    "from torch import nn\n",
    "from torch.utils.data import DataLoader\n",
    "import matplotlib.pyplot as plt\n",
    "import random\n",
    "import pandas as pd\n",
    "\n",
    "from typing import Tuple, Dict, List\n",
    "from collections import defaultdict"
   ]
  },
  {
   "cell_type": "code",
   "execution_count": 2,
   "metadata": {},
   "outputs": [],
   "source": [
    "DEVICE = \"cpu\"\n",
    "BATCH_SIZE = 64\n",
    "TRAIN_PATH = \"./data/train.csv\"\n",
    "TEST_PATH = \"./data/test.csv\""
   ]
  },
  {
   "cell_type": "markdown",
   "metadata": {},
   "source": [
    "## Datasets"
   ]
  },
  {
   "cell_type": "code",
   "execution_count": 3,
   "metadata": {},
   "outputs": [],
   "source": [
    "class MNISTDataset(torch.utils.data.Dataset):\n",
    "\n",
    "    def __init__(self,\n",
    "                 path: str,\n",
    "                 train: bool=True) -> None:\n",
    "        \n",
    "        df = pd.read_csv(path)\n",
    "        self.train = train\n",
    "        if train:\n",
    "            self.X = df.iloc[:, 1:].values\n",
    "            self.y = df.iloc[:, 0].values\n",
    "        else:\n",
    "            self.X = df.values\n",
    "\n",
    "    def __len__(self) -> int:\n",
    "        return self.X.shape[0]\n",
    "    \n",
    "    def __getitem__(self, idx: int):\n",
    "        if self.train:\n",
    "            return torch.tensor(self.X[idx, :], dtype=torch.float32), torch.tensor(self.y[idx], dtype=torch.long)\n",
    "        else:\n",
    "            return torch.tensor(self.X[idx, :], dtype=torch.float32)"
   ]
  },
  {
   "cell_type": "code",
   "execution_count": 4,
   "metadata": {},
   "outputs": [],
   "source": [
    "train_set = MNISTDataset(path=TRAIN_PATH, train=True)\n",
    "test_set = MNISTDataset(path=TEST_PATH, train=False)"
   ]
  },
  {
   "cell_type": "code",
   "execution_count": 5,
   "metadata": {},
   "outputs": [],
   "source": [
    "def display_random_image(seed: int=None):\n",
    "    if seed:\n",
    "        random.seed(a=seed)\n",
    "        torch.manual_seed(seed)\n",
    "    random_idx = random.randint(a=0, b=len(train_set)-1)\n",
    "    plt.imshow(\n",
    "        X=train_set[random_idx][0].reshape(28, 28, 1)\n",
    "    )\n",
    "    plt.title(label=f\"Number: {train_set[random_idx][1]}\")\n"
   ]
  },
  {
   "cell_type": "code",
   "execution_count": 6,
   "metadata": {},
   "outputs": [
    {
     "data": {
      "image/png": "[encoded data removed]",
      "text/plain": [
       "<Figure size 640x480 with 1 Axes>"
      ]
     },
     "metadata": {},
     "output_type": "display_data"
    }
   ],
   "source": [
    "display_random_image(seed=None)"
   ]
  },
  {
   "cell_type": "markdown",
   "metadata": {},
   "source": [
    "## Dataloaders"
   ]
  },
  {
   "cell_type": "code",
   "execution_count": 7,
   "metadata": {},
   "outputs": [],
   "source": [
    "train_dataloader = DataLoader(dataset=train_set,\n",
    "                              batch_size=64,\n",
    "                              shuffle=BATCH_SIZE)\n",
    "test_dataloader = DataLoader(dataset=test_set,\n",
    "                             shuffle=False,\n",
    "                             batch_size=BATCH_SIZE)"
   ]
  },
  {
   "cell_type": "code",
   "execution_count": 8,
   "metadata": {},
   "outputs": [
    {
     "data": {
      "text/plain": [
       "torch.Size([64, 784])"
      ]
     },
     "execution_count": 8,
     "metadata": {},
     "output_type": "execute_result"
    }
   ],
   "source": [
    "next(iter(train_dataloader))[0].shape"
   ]
  },
  {
   "cell_type": "markdown",
   "metadata": {},
   "source": [
    "## Model"
   ]
  },
  {
   "cell_type": "code",
   "execution_count": 9,
   "metadata": {},
   "outputs": [],
   "source": [
    "class DigitClassifier(nn.Module):\n",
    "    \n",
    "    def __init__(self):\n",
    "\n",
    "        super().__init__()\n",
    "\n",
    "        self.net = nn.Sequential(\n",
    "            nn.Linear(in_features=784, out_features=256),\n",
    "            nn.ReLU(),\n",
    "            nn.Linear(in_features=256, out_features=128),\n",
    "            nn.ReLU(),\n",
    "            nn.Linear(in_features=128, out_features=64),\n",
    "            nn.ReLU(),\n",
    "            nn.Linear(in_features=64, out_features=32),\n",
    "            nn.ReLU(),\n",
    "            nn.Linear(in_features=32, out_features=10)\n",
    "        )\n",
    "    \n",
    "    def forward(self,\n",
    "                X: torch.Tensor) -> float:\n",
    "        return self.net(X)"
   ]
  },
  {
   "cell_type": "markdown",
   "metadata": {},
   "source": [
    "## Training"
   ]
  },
  {
   "cell_type": "code",
   "execution_count": 10,
   "metadata": {},
   "outputs": [],
   "source": [
    "def train_step(model: nn.Module,\n",
    "               loss_fn: nn.Module,\n",
    "               optimizer: torch.optim.Optimizer,\n",
    "               dataloader: DataLoader) -> Tuple[float]:\n",
    "    \n",
    "    model.train()\n",
    "    model.to(DEVICE)\n",
    "    train_loss, train_acc = 0, 0\n",
    "    for X_batch, y_batch in dataloader:\n",
    "        \n",
    "        X_batch, y_batch = X_batch.to(DEVICE), y_batch.to(DEVICE)\n",
    "\n",
    "        y_pred = model(X_batch)\n",
    "        loss = loss_fn(y_pred, y_batch)\n",
    "\n",
    "        optimizer.zero_grad()\n",
    "        loss.backward()\n",
    "        optimizer.step()\n",
    "\n",
    "        train_loss += loss.item()\n",
    "        train_acc += torch.sum(torch.argmax(y_pred, dim=-1).squeeze() == y_batch.squeeze()).item()/ BATCH_SIZE\n",
    "    \n",
    "    train_loss /= len(dataloader)\n",
    "    train_acc /= len(dataloader)\n",
    "\n",
    "\n",
    "    return train_loss, train_acc\n",
    "\n",
    "@torch.no_grad()\n",
    "def eval_step(model: nn.Module,\n",
    "               loss_fn: nn.Module,\n",
    "               dataloader: DataLoader) -> Tuple[float]:\n",
    "    \n",
    "    model.eval()\n",
    "    model.to(DEVICE)\n",
    "    eval_loss, eval_acc = 0, 0\n",
    "    \n",
    "    for X_batch, y_batch in dataloader:\n",
    "        \n",
    "        X_batch, y_batch = X_batch.to(DEVICE), y_batch.to(DEVICE)\n",
    "\n",
    "        y_pred = model(X_batch)\n",
    "        loss = loss_fn(y_pred, y_batch)\n",
    "\n",
    "        eval_loss += loss.item()\n",
    "        eval_acc += torch.sum(torch.argmax(y_pred, dim=-1).squeeze() == y_batch.squeeze()).item()/ 64\n",
    "    \n",
    "    eval_loss /= len(dataloader)\n",
    "    eval_acc /= len(dataloader)\n",
    "\n",
    "\n",
    "    return eval_loss, eval_acc"
   ]
  },
  {
   "cell_type": "code",
   "execution_count": 11,
   "metadata": {},
   "outputs": [],
   "source": [
    "def train(model: nn.Module,\n",
    "          loss_fn: nn.Module,\n",
    "          optimizer: torch.optim.Optimizer,\n",
    "          train_dataloader: DataLoader,\n",
    "          test_dataloader: DataLoader,\n",
    "          epochs: int) -> Dict[str, List[float]]:\n",
    "    \n",
    "    \n",
    "    results = defaultdict(list)\n",
    "\n",
    "    for epoch in range(1, epochs+1):\n",
    "        \n",
    "        train_loss, train_acc = train_step(model=model,\n",
    "                                           loss_fn=loss_fn,\n",
    "                                           optimizer=optimizer,\n",
    "                                           dataloader=train_dataloader)\n",
    "        \n",
    "        print(f\"epoch {epoch} train_loss:{train_loss:.3f} train_acc:{train_acc}\")\n",
    "        results[\"train_loss\"].append(train_loss)\n",
    "        results[\"train_acc\"].append(train_acc)\n",
    "    \n",
    "    return results"
   ]
  },
  {
   "cell_type": "code",
   "execution_count": 12,
   "metadata": {},
   "outputs": [],
   "source": [
    "model = DigitClassifier()\n",
    "loss_fn = nn.CrossEntropyLoss()\n",
    "optimizer = torch.optim.SGD(\n",
    "    params=model.parameters(),\n",
    "    lr=1e-2\n",
    ")"
   ]
  },
  {
   "cell_type": "code",
   "execution_count": 13,
   "metadata": {},
   "outputs": [
    {
     "name": "stdout",
     "output_type": "stream",
     "text": [
      "epoch 1 train_loss:0.348 train_acc:0.8910530821917808\n",
      "epoch 2 train_loss:0.133 train_acc:0.95771499238965\n",
      "epoch 3 train_loss:0.087 train_acc:0.9723173515981736\n",
      "epoch 4 train_loss:0.063 train_acc:0.979261796042618\n",
      "epoch 5 train_loss:0.049 train_acc:0.9842560882800608\n",
      "epoch 6 train_loss:0.033 train_acc:0.9888460806697108\n",
      "epoch 7 train_loss:0.025 train_acc:0.9914145738203958\n",
      "epoch 8 train_loss:0.017 train_acc:0.9942446727549468\n",
      "epoch 9 train_loss:0.012 train_acc:0.9955051369863014\n",
      "epoch 10 train_loss:0.008 train_acc:0.9970747716894978\n"
     ]
    }
   ],
   "source": [
    "results = train(model=model,\n",
    "                loss_fn=loss_fn,\n",
    "                optimizer=optimizer,\n",
    "                train_dataloader=train_dataloader,\n",
    "                test_dataloader=test_dataloader,\n",
    "                epochs=10)"
   ]
  },
  {
   "cell_type": "markdown",
   "metadata": {},
   "source": [
    "## Result Visualization"
   ]
  },
  {
   "cell_type": "code",
   "execution_count": 14,
   "metadata": {},
   "outputs": [
    {
     "data": {
      "image/png": "[encoded data removed]",
      "text/plain": [
       "<Figure size 800x600 with 2 Axes>"
      ]
     },
     "metadata": {},
     "output_type": "display_data"
    }
   ],
   "source": [
    "import matplotlib.pyplot as plt\n",
    "import numpy as np\n",
    "\n",
    "fig, axs = plt.subplots(1, 2, figsize=(8, 6))\n",
    "\n",
    "axs[0].plot(np.arange(1, 11), results[\"train_loss\"])\n",
    "axs[1].plot(np.arange(1, 11), results[\"train_acc\"])\n",
    "\n",
    "axs[0].set_xlabel('epoch')\n",
    "axs[0].set_ylabel('loss')\n",
    "\n",
    "axs[1].set_xlabel('epoch')\n",
    "axs[1].set_ylabel('acc')\n",
    "\n",
    "plt.show()\n",
    "fig.tight_layout()"
   ]
  },
  {
   "cell_type": "markdown",
   "metadata": {},
   "source": [
    "## Saving Model"
   ]
  },
  {
   "cell_type": "code",
   "execution_count": 15,
   "metadata": {},
   "outputs": [],
   "source": [
    "torch.save(obj=model.state_dict(),\n",
    "           f=\"./weights/simple_model.pt\")"
   ]
  }
 ],
 "metadata": {
  "kernelspec": {
   "display_name": "venv",
   "language": "python",
   "name": "python3"
  },
  "language_info": {
   "codemirror_mode": {
    "name": "ipython",
    "version": 3
   },
   "file_extension": ".py",
   "mimetype": "text/x-python",
   "name": "python",
   "nbconvert_exporter": "python",
   "pygments_lexer": "ipython3",
   "version": "3.11.5"
  }
 },
 "nbformat": 4,
 "nbformat_minor": 2
}
